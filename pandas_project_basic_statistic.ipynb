{
  "nbformat": 4,
  "nbformat_minor": 0,
  "metadata": {
    "colab": {
      "provenance": []
    },
    "kernelspec": {
      "name": "python3",
      "display_name": "Python 3"
    },
    "language_info": {
      "name": "python"
    }
  },
  "cells": [
    {
      "cell_type": "markdown",
      "source": [
        "IMPORT PANDAS"
      ],
      "metadata": {
        "id": "rNjZrKNxPi_s"
      }
    },
    {
      "cell_type": "code",
      "execution_count": 135,
      "metadata": {
        "id": "1VAdyXW5JBC5"
      },
      "outputs": [],
      "source": [
        "import pandas as pd"
      ]
    },
    {
      "cell_type": "markdown",
      "source": [
        "MENAMPILKAN DATASET"
      ],
      "metadata": {
        "id": "wY4Ro_JXPmn_"
      }
    },
    {
      "cell_type": "code",
      "source": [
        "data = pd.read_csv ('/content/dataset_penjualan - dataset_penjualan.csv')"
      ],
      "metadata": {
        "id": "2xwRBRgcJKNG"
      },
      "execution_count": 136,
      "outputs": []
    },
    {
      "cell_type": "code",
      "source": [
        "df = pd.DataFrame(data)\n",
        "df"
      ],
      "metadata": {
        "colab": {
          "base_uri": "https://localhost:8080/",
          "height": 617
        },
        "id": "AmCHi7DeJNtS",
        "outputId": "802968c8-88d6-406f-b70c-a2149b5324e5"
      },
      "execution_count": 137,
      "outputs": [
        {
          "output_type": "execute_result",
          "data": {
            "text/plain": [
              "   Transaction_ID        Date              Product    Category     Price  \\\n",
              "0         ABC0001  2024-02-10             Laptop B  Elektronik  15000000   \n",
              "1         ABC0002  2024-01-16         Smartphone Y  Elektronik   7000000   \n",
              "2         ABC0003  2024-02-13  Keyboard Mechanical   Aksesoris   1200000   \n",
              "3         ABC0004  2024-01-28             Laptop A  Elektronik  12000000   \n",
              "4         ABC0005  2024-01-14         Smartphone Y  Elektronik   7000000   \n",
              "..            ...         ...                  ...         ...       ...   \n",
              "95        ABC0096  2024-01-08             Laptop B  Elektronik  15000000   \n",
              "96        ABC0097  2024-01-18             Kamera Z  Elektronik   8000000   \n",
              "97        ABC0098  2024-02-15           TV 50 Inch  Elektronik  10000000   \n",
              "98        ABC0099  2024-02-02         Mouse Gaming   Aksesoris    500000   \n",
              "99        ABC0100  2024-01-06            Headphone   Aksesoris   1500000   \n",
              "\n",
              "    Quantity  Total_Sales Customer  \n",
              "0          1     15000000      Eko  \n",
              "1          2     14000000     Budi  \n",
              "2          1      1200000     Joko  \n",
              "3          1     12000000     Budi  \n",
              "4          5     35000000     Joko  \n",
              "..       ...          ...      ...  \n",
              "95         5     75000000    Citra  \n",
              "96         5     40000000     Dewi  \n",
              "97         2     20000000      Eko  \n",
              "98         3      1500000     Andi  \n",
              "99         3      4500000     Andi  \n",
              "\n",
              "[100 rows x 8 columns]"
            ],
            "text/html": [
              "\n",
              "  <div id=\"df-4940d4f3-0b8e-48e7-96c3-1e8fb3ca33ce\" class=\"colab-df-container\">\n",
              "    <div>\n",
              "<style scoped>\n",
              "    .dataframe tbody tr th:only-of-type {\n",
              "        vertical-align: middle;\n",
              "    }\n",
              "\n",
              "    .dataframe tbody tr th {\n",
              "        vertical-align: top;\n",
              "    }\n",
              "\n",
              "    .dataframe thead th {\n",
              "        text-align: right;\n",
              "    }\n",
              "</style>\n",
              "<table border=\"1\" class=\"dataframe\">\n",
              "  <thead>\n",
              "    <tr style=\"text-align: right;\">\n",
              "      <th></th>\n",
              "      <th>Transaction_ID</th>\n",
              "      <th>Date</th>\n",
              "      <th>Product</th>\n",
              "      <th>Category</th>\n",
              "      <th>Price</th>\n",
              "      <th>Quantity</th>\n",
              "      <th>Total_Sales</th>\n",
              "      <th>Customer</th>\n",
              "    </tr>\n",
              "  </thead>\n",
              "  <tbody>\n",
              "    <tr>\n",
              "      <th>0</th>\n",
              "      <td>ABC0001</td>\n",
              "      <td>2024-02-10</td>\n",
              "      <td>Laptop B</td>\n",
              "      <td>Elektronik</td>\n",
              "      <td>15000000</td>\n",
              "      <td>1</td>\n",
              "      <td>15000000</td>\n",
              "      <td>Eko</td>\n",
              "    </tr>\n",
              "    <tr>\n",
              "      <th>1</th>\n",
              "      <td>ABC0002</td>\n",
              "      <td>2024-01-16</td>\n",
              "      <td>Smartphone Y</td>\n",
              "      <td>Elektronik</td>\n",
              "      <td>7000000</td>\n",
              "      <td>2</td>\n",
              "      <td>14000000</td>\n",
              "      <td>Budi</td>\n",
              "    </tr>\n",
              "    <tr>\n",
              "      <th>2</th>\n",
              "      <td>ABC0003</td>\n",
              "      <td>2024-02-13</td>\n",
              "      <td>Keyboard Mechanical</td>\n",
              "      <td>Aksesoris</td>\n",
              "      <td>1200000</td>\n",
              "      <td>1</td>\n",
              "      <td>1200000</td>\n",
              "      <td>Joko</td>\n",
              "    </tr>\n",
              "    <tr>\n",
              "      <th>3</th>\n",
              "      <td>ABC0004</td>\n",
              "      <td>2024-01-28</td>\n",
              "      <td>Laptop A</td>\n",
              "      <td>Elektronik</td>\n",
              "      <td>12000000</td>\n",
              "      <td>1</td>\n",
              "      <td>12000000</td>\n",
              "      <td>Budi</td>\n",
              "    </tr>\n",
              "    <tr>\n",
              "      <th>4</th>\n",
              "      <td>ABC0005</td>\n",
              "      <td>2024-01-14</td>\n",
              "      <td>Smartphone Y</td>\n",
              "      <td>Elektronik</td>\n",
              "      <td>7000000</td>\n",
              "      <td>5</td>\n",
              "      <td>35000000</td>\n",
              "      <td>Joko</td>\n",
              "    </tr>\n",
              "    <tr>\n",
              "      <th>...</th>\n",
              "      <td>...</td>\n",
              "      <td>...</td>\n",
              "      <td>...</td>\n",
              "      <td>...</td>\n",
              "      <td>...</td>\n",
              "      <td>...</td>\n",
              "      <td>...</td>\n",
              "      <td>...</td>\n",
              "    </tr>\n",
              "    <tr>\n",
              "      <th>95</th>\n",
              "      <td>ABC0096</td>\n",
              "      <td>2024-01-08</td>\n",
              "      <td>Laptop B</td>\n",
              "      <td>Elektronik</td>\n",
              "      <td>15000000</td>\n",
              "      <td>5</td>\n",
              "      <td>75000000</td>\n",
              "      <td>Citra</td>\n",
              "    </tr>\n",
              "    <tr>\n",
              "      <th>96</th>\n",
              "      <td>ABC0097</td>\n",
              "      <td>2024-01-18</td>\n",
              "      <td>Kamera Z</td>\n",
              "      <td>Elektronik</td>\n",
              "      <td>8000000</td>\n",
              "      <td>5</td>\n",
              "      <td>40000000</td>\n",
              "      <td>Dewi</td>\n",
              "    </tr>\n",
              "    <tr>\n",
              "      <th>97</th>\n",
              "      <td>ABC0098</td>\n",
              "      <td>2024-02-15</td>\n",
              "      <td>TV 50 Inch</td>\n",
              "      <td>Elektronik</td>\n",
              "      <td>10000000</td>\n",
              "      <td>2</td>\n",
              "      <td>20000000</td>\n",
              "      <td>Eko</td>\n",
              "    </tr>\n",
              "    <tr>\n",
              "      <th>98</th>\n",
              "      <td>ABC0099</td>\n",
              "      <td>2024-02-02</td>\n",
              "      <td>Mouse Gaming</td>\n",
              "      <td>Aksesoris</td>\n",
              "      <td>500000</td>\n",
              "      <td>3</td>\n",
              "      <td>1500000</td>\n",
              "      <td>Andi</td>\n",
              "    </tr>\n",
              "    <tr>\n",
              "      <th>99</th>\n",
              "      <td>ABC0100</td>\n",
              "      <td>2024-01-06</td>\n",
              "      <td>Headphone</td>\n",
              "      <td>Aksesoris</td>\n",
              "      <td>1500000</td>\n",
              "      <td>3</td>\n",
              "      <td>4500000</td>\n",
              "      <td>Andi</td>\n",
              "    </tr>\n",
              "  </tbody>\n",
              "</table>\n",
              "<p>100 rows × 8 columns</p>\n",
              "</div>\n",
              "    <div class=\"colab-df-buttons\">\n",
              "\n",
              "  <div class=\"colab-df-container\">\n",
              "    <button class=\"colab-df-convert\" onclick=\"convertToInteractive('df-4940d4f3-0b8e-48e7-96c3-1e8fb3ca33ce')\"\n",
              "            title=\"Convert this dataframe to an interactive table.\"\n",
              "            style=\"display:none;\">\n",
              "\n",
              "  <svg xmlns=\"http://www.w3.org/2000/svg\" height=\"24px\" viewBox=\"0 -960 960 960\">\n",
              "    <path d=\"M120-120v-720h720v720H120Zm60-500h600v-160H180v160Zm220 220h160v-160H400v160Zm0 220h160v-160H400v160ZM180-400h160v-160H180v160Zm440 0h160v-160H620v160ZM180-180h160v-160H180v160Zm440 0h160v-160H620v160Z\"/>\n",
              "  </svg>\n",
              "    </button>\n",
              "\n",
              "  <style>\n",
              "    .colab-df-container {\n",
              "      display:flex;\n",
              "      gap: 12px;\n",
              "    }\n",
              "\n",
              "    .colab-df-convert {\n",
              "      background-color: #E8F0FE;\n",
              "      border: none;\n",
              "      border-radius: 50%;\n",
              "      cursor: pointer;\n",
              "      display: none;\n",
              "      fill: #1967D2;\n",
              "      height: 32px;\n",
              "      padding: 0 0 0 0;\n",
              "      width: 32px;\n",
              "    }\n",
              "\n",
              "    .colab-df-convert:hover {\n",
              "      background-color: #E2EBFA;\n",
              "      box-shadow: 0px 1px 2px rgba(60, 64, 67, 0.3), 0px 1px 3px 1px rgba(60, 64, 67, 0.15);\n",
              "      fill: #174EA6;\n",
              "    }\n",
              "\n",
              "    .colab-df-buttons div {\n",
              "      margin-bottom: 4px;\n",
              "    }\n",
              "\n",
              "    [theme=dark] .colab-df-convert {\n",
              "      background-color: #3B4455;\n",
              "      fill: #D2E3FC;\n",
              "    }\n",
              "\n",
              "    [theme=dark] .colab-df-convert:hover {\n",
              "      background-color: #434B5C;\n",
              "      box-shadow: 0px 1px 3px 1px rgba(0, 0, 0, 0.15);\n",
              "      filter: drop-shadow(0px 1px 2px rgba(0, 0, 0, 0.3));\n",
              "      fill: #FFFFFF;\n",
              "    }\n",
              "  </style>\n",
              "\n",
              "    <script>\n",
              "      const buttonEl =\n",
              "        document.querySelector('#df-4940d4f3-0b8e-48e7-96c3-1e8fb3ca33ce button.colab-df-convert');\n",
              "      buttonEl.style.display =\n",
              "        google.colab.kernel.accessAllowed ? 'block' : 'none';\n",
              "\n",
              "      async function convertToInteractive(key) {\n",
              "        const element = document.querySelector('#df-4940d4f3-0b8e-48e7-96c3-1e8fb3ca33ce');\n",
              "        const dataTable =\n",
              "          await google.colab.kernel.invokeFunction('convertToInteractive',\n",
              "                                                    [key], {});\n",
              "        if (!dataTable) return;\n",
              "\n",
              "        const docLinkHtml = 'Like what you see? Visit the ' +\n",
              "          '<a target=\"_blank\" href=https://colab.research.google.com/notebooks/data_table.ipynb>data table notebook</a>'\n",
              "          + ' to learn more about interactive tables.';\n",
              "        element.innerHTML = '';\n",
              "        dataTable['output_type'] = 'display_data';\n",
              "        await google.colab.output.renderOutput(dataTable, element);\n",
              "        const docLink = document.createElement('div');\n",
              "        docLink.innerHTML = docLinkHtml;\n",
              "        element.appendChild(docLink);\n",
              "      }\n",
              "    </script>\n",
              "  </div>\n",
              "\n",
              "\n",
              "<div id=\"df-01187bdc-8b89-48aa-8ea2-670c0d0c30e0\">\n",
              "  <button class=\"colab-df-quickchart\" onclick=\"quickchart('df-01187bdc-8b89-48aa-8ea2-670c0d0c30e0')\"\n",
              "            title=\"Suggest charts\"\n",
              "            style=\"display:none;\">\n",
              "\n",
              "<svg xmlns=\"http://www.w3.org/2000/svg\" height=\"24px\"viewBox=\"0 0 24 24\"\n",
              "     width=\"24px\">\n",
              "    <g>\n",
              "        <path d=\"M19 3H5c-1.1 0-2 .9-2 2v14c0 1.1.9 2 2 2h14c1.1 0 2-.9 2-2V5c0-1.1-.9-2-2-2zM9 17H7v-7h2v7zm4 0h-2V7h2v10zm4 0h-2v-4h2v4z\"/>\n",
              "    </g>\n",
              "</svg>\n",
              "  </button>\n",
              "\n",
              "<style>\n",
              "  .colab-df-quickchart {\n",
              "      --bg-color: #E8F0FE;\n",
              "      --fill-color: #1967D2;\n",
              "      --hover-bg-color: #E2EBFA;\n",
              "      --hover-fill-color: #174EA6;\n",
              "      --disabled-fill-color: #AAA;\n",
              "      --disabled-bg-color: #DDD;\n",
              "  }\n",
              "\n",
              "  [theme=dark] .colab-df-quickchart {\n",
              "      --bg-color: #3B4455;\n",
              "      --fill-color: #D2E3FC;\n",
              "      --hover-bg-color: #434B5C;\n",
              "      --hover-fill-color: #FFFFFF;\n",
              "      --disabled-bg-color: #3B4455;\n",
              "      --disabled-fill-color: #666;\n",
              "  }\n",
              "\n",
              "  .colab-df-quickchart {\n",
              "    background-color: var(--bg-color);\n",
              "    border: none;\n",
              "    border-radius: 50%;\n",
              "    cursor: pointer;\n",
              "    display: none;\n",
              "    fill: var(--fill-color);\n",
              "    height: 32px;\n",
              "    padding: 0;\n",
              "    width: 32px;\n",
              "  }\n",
              "\n",
              "  .colab-df-quickchart:hover {\n",
              "    background-color: var(--hover-bg-color);\n",
              "    box-shadow: 0 1px 2px rgba(60, 64, 67, 0.3), 0 1px 3px 1px rgba(60, 64, 67, 0.15);\n",
              "    fill: var(--button-hover-fill-color);\n",
              "  }\n",
              "\n",
              "  .colab-df-quickchart-complete:disabled,\n",
              "  .colab-df-quickchart-complete:disabled:hover {\n",
              "    background-color: var(--disabled-bg-color);\n",
              "    fill: var(--disabled-fill-color);\n",
              "    box-shadow: none;\n",
              "  }\n",
              "\n",
              "  .colab-df-spinner {\n",
              "    border: 2px solid var(--fill-color);\n",
              "    border-color: transparent;\n",
              "    border-bottom-color: var(--fill-color);\n",
              "    animation:\n",
              "      spin 1s steps(1) infinite;\n",
              "  }\n",
              "\n",
              "  @keyframes spin {\n",
              "    0% {\n",
              "      border-color: transparent;\n",
              "      border-bottom-color: var(--fill-color);\n",
              "      border-left-color: var(--fill-color);\n",
              "    }\n",
              "    20% {\n",
              "      border-color: transparent;\n",
              "      border-left-color: var(--fill-color);\n",
              "      border-top-color: var(--fill-color);\n",
              "    }\n",
              "    30% {\n",
              "      border-color: transparent;\n",
              "      border-left-color: var(--fill-color);\n",
              "      border-top-color: var(--fill-color);\n",
              "      border-right-color: var(--fill-color);\n",
              "    }\n",
              "    40% {\n",
              "      border-color: transparent;\n",
              "      border-right-color: var(--fill-color);\n",
              "      border-top-color: var(--fill-color);\n",
              "    }\n",
              "    60% {\n",
              "      border-color: transparent;\n",
              "      border-right-color: var(--fill-color);\n",
              "    }\n",
              "    80% {\n",
              "      border-color: transparent;\n",
              "      border-right-color: var(--fill-color);\n",
              "      border-bottom-color: var(--fill-color);\n",
              "    }\n",
              "    90% {\n",
              "      border-color: transparent;\n",
              "      border-bottom-color: var(--fill-color);\n",
              "    }\n",
              "  }\n",
              "</style>\n",
              "\n",
              "  <script>\n",
              "    async function quickchart(key) {\n",
              "      const quickchartButtonEl =\n",
              "        document.querySelector('#' + key + ' button');\n",
              "      quickchartButtonEl.disabled = true;  // To prevent multiple clicks.\n",
              "      quickchartButtonEl.classList.add('colab-df-spinner');\n",
              "      try {\n",
              "        const charts = await google.colab.kernel.invokeFunction(\n",
              "            'suggestCharts', [key], {});\n",
              "      } catch (error) {\n",
              "        console.error('Error during call to suggestCharts:', error);\n",
              "      }\n",
              "      quickchartButtonEl.classList.remove('colab-df-spinner');\n",
              "      quickchartButtonEl.classList.add('colab-df-quickchart-complete');\n",
              "    }\n",
              "    (() => {\n",
              "      let quickchartButtonEl =\n",
              "        document.querySelector('#df-01187bdc-8b89-48aa-8ea2-670c0d0c30e0 button');\n",
              "      quickchartButtonEl.style.display =\n",
              "        google.colab.kernel.accessAllowed ? 'block' : 'none';\n",
              "    })();\n",
              "  </script>\n",
              "</div>\n",
              "\n",
              "  <div id=\"id_e0baa4cb-5b50-4094-aa01-7be9daabf13c\">\n",
              "    <style>\n",
              "      .colab-df-generate {\n",
              "        background-color: #E8F0FE;\n",
              "        border: none;\n",
              "        border-radius: 50%;\n",
              "        cursor: pointer;\n",
              "        display: none;\n",
              "        fill: #1967D2;\n",
              "        height: 32px;\n",
              "        padding: 0 0 0 0;\n",
              "        width: 32px;\n",
              "      }\n",
              "\n",
              "      .colab-df-generate:hover {\n",
              "        background-color: #E2EBFA;\n",
              "        box-shadow: 0px 1px 2px rgba(60, 64, 67, 0.3), 0px 1px 3px 1px rgba(60, 64, 67, 0.15);\n",
              "        fill: #174EA6;\n",
              "      }\n",
              "\n",
              "      [theme=dark] .colab-df-generate {\n",
              "        background-color: #3B4455;\n",
              "        fill: #D2E3FC;\n",
              "      }\n",
              "\n",
              "      [theme=dark] .colab-df-generate:hover {\n",
              "        background-color: #434B5C;\n",
              "        box-shadow: 0px 1px 3px 1px rgba(0, 0, 0, 0.15);\n",
              "        filter: drop-shadow(0px 1px 2px rgba(0, 0, 0, 0.3));\n",
              "        fill: #FFFFFF;\n",
              "      }\n",
              "    </style>\n",
              "    <button class=\"colab-df-generate\" onclick=\"generateWithVariable('df')\"\n",
              "            title=\"Generate code using this dataframe.\"\n",
              "            style=\"display:none;\">\n",
              "\n",
              "  <svg xmlns=\"http://www.w3.org/2000/svg\" height=\"24px\"viewBox=\"0 0 24 24\"\n",
              "       width=\"24px\">\n",
              "    <path d=\"M7,19H8.4L18.45,9,17,7.55,7,17.6ZM5,21V16.75L18.45,3.32a2,2,0,0,1,2.83,0l1.4,1.43a1.91,1.91,0,0,1,.58,1.4,1.91,1.91,0,0,1-.58,1.4L9.25,21ZM18.45,9,17,7.55Zm-12,3A5.31,5.31,0,0,0,4.9,8.1,5.31,5.31,0,0,0,1,6.5,5.31,5.31,0,0,0,4.9,4.9,5.31,5.31,0,0,0,6.5,1,5.31,5.31,0,0,0,8.1,4.9,5.31,5.31,0,0,0,12,6.5,5.46,5.46,0,0,0,6.5,12Z\"/>\n",
              "  </svg>\n",
              "    </button>\n",
              "    <script>\n",
              "      (() => {\n",
              "      const buttonEl =\n",
              "        document.querySelector('#id_e0baa4cb-5b50-4094-aa01-7be9daabf13c button.colab-df-generate');\n",
              "      buttonEl.style.display =\n",
              "        google.colab.kernel.accessAllowed ? 'block' : 'none';\n",
              "\n",
              "      buttonEl.onclick = () => {\n",
              "        google.colab.notebook.generateWithVariable('df');\n",
              "      }\n",
              "      })();\n",
              "    </script>\n",
              "  </div>\n",
              "\n",
              "    </div>\n",
              "  </div>\n"
            ],
            "application/vnd.google.colaboratory.intrinsic+json": {
              "type": "dataframe",
              "variable_name": "df",
              "summary": "{\n  \"name\": \"df\",\n  \"rows\": 100,\n  \"fields\": [\n    {\n      \"column\": \"Transaction_ID\",\n      \"properties\": {\n        \"dtype\": \"string\",\n        \"num_unique_values\": 100,\n        \"samples\": [\n          \"ABC0084\",\n          \"ABC0054\",\n          \"ABC0071\"\n        ],\n        \"semantic_type\": \"\",\n        \"description\": \"\"\n      }\n    },\n    {\n      \"column\": \"Date\",\n      \"properties\": {\n        \"dtype\": \"object\",\n        \"num_unique_values\": 54,\n        \"samples\": [\n          \"2024-02-22\",\n          \"2024-02-23\",\n          \"2024-02-09\"\n        ],\n        \"semantic_type\": \"\",\n        \"description\": \"\"\n      }\n    },\n    {\n      \"column\": \"Product\",\n      \"properties\": {\n        \"dtype\": \"category\",\n        \"num_unique_values\": 10,\n        \"samples\": [\n          \"Headphone\",\n          \"Smartphone Y\",\n          \"TV 50 Inch\"\n        ],\n        \"semantic_type\": \"\",\n        \"description\": \"\"\n      }\n    },\n    {\n      \"column\": \"Category\",\n      \"properties\": {\n        \"dtype\": \"category\",\n        \"num_unique_values\": 2,\n        \"samples\": [\n          \"Aksesoris\",\n          \"Elektronik\"\n        ],\n        \"semantic_type\": \"\",\n        \"description\": \"\"\n      }\n    },\n    {\n      \"column\": \"Price\",\n      \"properties\": {\n        \"dtype\": \"number\",\n        \"std\": 4816064,\n        \"min\": 500000,\n        \"max\": 15000000,\n        \"num_unique_values\": 10,\n        \"samples\": [\n          1500000,\n          7000000\n        ],\n        \"semantic_type\": \"\",\n        \"description\": \"\"\n      }\n    },\n    {\n      \"column\": \"Quantity\",\n      \"properties\": {\n        \"dtype\": \"number\",\n        \"std\": 1,\n        \"min\": 1,\n        \"max\": 5,\n        \"num_unique_values\": 5,\n        \"samples\": [\n          2,\n          3\n        ],\n        \"semantic_type\": \"\",\n        \"description\": \"\"\n      }\n    },\n    {\n      \"column\": \"Total_Sales\",\n      \"properties\": {\n        \"dtype\": \"number\",\n        \"std\": 18142173,\n        \"min\": 500000,\n        \"max\": 75000000,\n        \"num_unique_values\": 32,\n        \"samples\": [\n          5000000,\n          21000000\n        ],\n        \"semantic_type\": \"\",\n        \"description\": \"\"\n      }\n    },\n    {\n      \"column\": \"Customer\",\n      \"properties\": {\n        \"dtype\": \"category\",\n        \"num_unique_values\": 10,\n        \"samples\": [\n          \"Andi\",\n          \"Budi\"\n        ],\n        \"semantic_type\": \"\",\n        \"description\": \"\"\n      }\n    }\n  ]\n}"
            }
          },
          "metadata": {},
          "execution_count": 137
        }
      ]
    },
    {
      "cell_type": "code",
      "source": [
        "# cek tipe data\n",
        "print(df.dtypes)"
      ],
      "metadata": {
        "colab": {
          "base_uri": "https://localhost:8080/"
        },
        "id": "RIyYCgwMJZNC",
        "outputId": "84afa3b7-a322-4296-99c3-9eee426cbe84"
      },
      "execution_count": 138,
      "outputs": [
        {
          "output_type": "stream",
          "name": "stdout",
          "text": [
            "Transaction_ID    object\n",
            "Date              object\n",
            "Product           object\n",
            "Category          object\n",
            "Price              int64\n",
            "Quantity           int64\n",
            "Total_Sales        int64\n",
            "Customer          object\n",
            "dtype: object\n"
          ]
        }
      ]
    },
    {
      "cell_type": "markdown",
      "source": [
        "MENAMPILKAN DATA PRICE DAN TOTAL_SALES AGAR MUDAH DIMENGERTI"
      ],
      "metadata": {
        "id": "MY6K0SOXSBBJ"
      }
    },
    {
      "cell_type": "code",
      "source": [
        "# Fungsi untuk menampilkan angka dengan titik (hanya untuk tampilan)\n",
        "def format_number(n):\n",
        "    return f\"{n:,}\".replace(\",\", \".\")\n",
        "\n",
        "# Menampilkan dataframe dengan tampilan angka bertitik\n",
        "df_display = df.copy()\n",
        "numeric_cols = [\"Price\", \"Total_Sales\"]\n",
        "\n",
        "for col in numeric_cols:\n",
        "    df_display[col] = df_display[col].apply(format_number)"
      ],
      "metadata": {
        "id": "zjRGi5HzOuJQ"
      },
      "execution_count": 139,
      "outputs": []
    },
    {
      "cell_type": "code",
      "source": [
        "# menggunakan df display agar data dapat dimengerti\n",
        "# jika ingin diolah, gunakan data (df)\n",
        "df_display.head(5)"
      ],
      "metadata": {
        "colab": {
          "base_uri": "https://localhost:8080/",
          "height": 313
        },
        "id": "pNs3IYdpPArj",
        "outputId": "998a513d-0689-4ba3-c599-6283dcf0ba41"
      },
      "execution_count": 140,
      "outputs": [
        {
          "output_type": "execute_result",
          "data": {
            "text/plain": [
              "  Transaction_ID        Date              Product    Category       Price  \\\n",
              "0        ABC0001  2024-02-10             Laptop B  Elektronik  15.000.000   \n",
              "1        ABC0002  2024-01-16         Smartphone Y  Elektronik   7.000.000   \n",
              "2        ABC0003  2024-02-13  Keyboard Mechanical   Aksesoris   1.200.000   \n",
              "3        ABC0004  2024-01-28             Laptop A  Elektronik  12.000.000   \n",
              "4        ABC0005  2024-01-14         Smartphone Y  Elektronik   7.000.000   \n",
              "\n",
              "   Quantity Total_Sales Customer  \n",
              "0         1  15.000.000      Eko  \n",
              "1         2  14.000.000     Budi  \n",
              "2         1   1.200.000     Joko  \n",
              "3         1  12.000.000     Budi  \n",
              "4         5  35.000.000     Joko  "
            ],
            "text/html": [
              "\n",
              "  <div id=\"df-ad8e0078-48d0-4054-ad5b-adba2e0350d0\" class=\"colab-df-container\">\n",
              "    <div>\n",
              "<style scoped>\n",
              "    .dataframe tbody tr th:only-of-type {\n",
              "        vertical-align: middle;\n",
              "    }\n",
              "\n",
              "    .dataframe tbody tr th {\n",
              "        vertical-align: top;\n",
              "    }\n",
              "\n",
              "    .dataframe thead th {\n",
              "        text-align: right;\n",
              "    }\n",
              "</style>\n",
              "<table border=\"1\" class=\"dataframe\">\n",
              "  <thead>\n",
              "    <tr style=\"text-align: right;\">\n",
              "      <th></th>\n",
              "      <th>Transaction_ID</th>\n",
              "      <th>Date</th>\n",
              "      <th>Product</th>\n",
              "      <th>Category</th>\n",
              "      <th>Price</th>\n",
              "      <th>Quantity</th>\n",
              "      <th>Total_Sales</th>\n",
              "      <th>Customer</th>\n",
              "    </tr>\n",
              "  </thead>\n",
              "  <tbody>\n",
              "    <tr>\n",
              "      <th>0</th>\n",
              "      <td>ABC0001</td>\n",
              "      <td>2024-02-10</td>\n",
              "      <td>Laptop B</td>\n",
              "      <td>Elektronik</td>\n",
              "      <td>15.000.000</td>\n",
              "      <td>1</td>\n",
              "      <td>15.000.000</td>\n",
              "      <td>Eko</td>\n",
              "    </tr>\n",
              "    <tr>\n",
              "      <th>1</th>\n",
              "      <td>ABC0002</td>\n",
              "      <td>2024-01-16</td>\n",
              "      <td>Smartphone Y</td>\n",
              "      <td>Elektronik</td>\n",
              "      <td>7.000.000</td>\n",
              "      <td>2</td>\n",
              "      <td>14.000.000</td>\n",
              "      <td>Budi</td>\n",
              "    </tr>\n",
              "    <tr>\n",
              "      <th>2</th>\n",
              "      <td>ABC0003</td>\n",
              "      <td>2024-02-13</td>\n",
              "      <td>Keyboard Mechanical</td>\n",
              "      <td>Aksesoris</td>\n",
              "      <td>1.200.000</td>\n",
              "      <td>1</td>\n",
              "      <td>1.200.000</td>\n",
              "      <td>Joko</td>\n",
              "    </tr>\n",
              "    <tr>\n",
              "      <th>3</th>\n",
              "      <td>ABC0004</td>\n",
              "      <td>2024-01-28</td>\n",
              "      <td>Laptop A</td>\n",
              "      <td>Elektronik</td>\n",
              "      <td>12.000.000</td>\n",
              "      <td>1</td>\n",
              "      <td>12.000.000</td>\n",
              "      <td>Budi</td>\n",
              "    </tr>\n",
              "    <tr>\n",
              "      <th>4</th>\n",
              "      <td>ABC0005</td>\n",
              "      <td>2024-01-14</td>\n",
              "      <td>Smartphone Y</td>\n",
              "      <td>Elektronik</td>\n",
              "      <td>7.000.000</td>\n",
              "      <td>5</td>\n",
              "      <td>35.000.000</td>\n",
              "      <td>Joko</td>\n",
              "    </tr>\n",
              "  </tbody>\n",
              "</table>\n",
              "</div>\n",
              "    <div class=\"colab-df-buttons\">\n",
              "\n",
              "  <div class=\"colab-df-container\">\n",
              "    <button class=\"colab-df-convert\" onclick=\"convertToInteractive('df-ad8e0078-48d0-4054-ad5b-adba2e0350d0')\"\n",
              "            title=\"Convert this dataframe to an interactive table.\"\n",
              "            style=\"display:none;\">\n",
              "\n",
              "  <svg xmlns=\"http://www.w3.org/2000/svg\" height=\"24px\" viewBox=\"0 -960 960 960\">\n",
              "    <path d=\"M120-120v-720h720v720H120Zm60-500h600v-160H180v160Zm220 220h160v-160H400v160Zm0 220h160v-160H400v160ZM180-400h160v-160H180v160Zm440 0h160v-160H620v160ZM180-180h160v-160H180v160Zm440 0h160v-160H620v160Z\"/>\n",
              "  </svg>\n",
              "    </button>\n",
              "\n",
              "  <style>\n",
              "    .colab-df-container {\n",
              "      display:flex;\n",
              "      gap: 12px;\n",
              "    }\n",
              "\n",
              "    .colab-df-convert {\n",
              "      background-color: #E8F0FE;\n",
              "      border: none;\n",
              "      border-radius: 50%;\n",
              "      cursor: pointer;\n",
              "      display: none;\n",
              "      fill: #1967D2;\n",
              "      height: 32px;\n",
              "      padding: 0 0 0 0;\n",
              "      width: 32px;\n",
              "    }\n",
              "\n",
              "    .colab-df-convert:hover {\n",
              "      background-color: #E2EBFA;\n",
              "      box-shadow: 0px 1px 2px rgba(60, 64, 67, 0.3), 0px 1px 3px 1px rgba(60, 64, 67, 0.15);\n",
              "      fill: #174EA6;\n",
              "    }\n",
              "\n",
              "    .colab-df-buttons div {\n",
              "      margin-bottom: 4px;\n",
              "    }\n",
              "\n",
              "    [theme=dark] .colab-df-convert {\n",
              "      background-color: #3B4455;\n",
              "      fill: #D2E3FC;\n",
              "    }\n",
              "\n",
              "    [theme=dark] .colab-df-convert:hover {\n",
              "      background-color: #434B5C;\n",
              "      box-shadow: 0px 1px 3px 1px rgba(0, 0, 0, 0.15);\n",
              "      filter: drop-shadow(0px 1px 2px rgba(0, 0, 0, 0.3));\n",
              "      fill: #FFFFFF;\n",
              "    }\n",
              "  </style>\n",
              "\n",
              "    <script>\n",
              "      const buttonEl =\n",
              "        document.querySelector('#df-ad8e0078-48d0-4054-ad5b-adba2e0350d0 button.colab-df-convert');\n",
              "      buttonEl.style.display =\n",
              "        google.colab.kernel.accessAllowed ? 'block' : 'none';\n",
              "\n",
              "      async function convertToInteractive(key) {\n",
              "        const element = document.querySelector('#df-ad8e0078-48d0-4054-ad5b-adba2e0350d0');\n",
              "        const dataTable =\n",
              "          await google.colab.kernel.invokeFunction('convertToInteractive',\n",
              "                                                    [key], {});\n",
              "        if (!dataTable) return;\n",
              "\n",
              "        const docLinkHtml = 'Like what you see? Visit the ' +\n",
              "          '<a target=\"_blank\" href=https://colab.research.google.com/notebooks/data_table.ipynb>data table notebook</a>'\n",
              "          + ' to learn more about interactive tables.';\n",
              "        element.innerHTML = '';\n",
              "        dataTable['output_type'] = 'display_data';\n",
              "        await google.colab.output.renderOutput(dataTable, element);\n",
              "        const docLink = document.createElement('div');\n",
              "        docLink.innerHTML = docLinkHtml;\n",
              "        element.appendChild(docLink);\n",
              "      }\n",
              "    </script>\n",
              "  </div>\n",
              "\n",
              "\n",
              "<div id=\"df-097f7753-8234-4f5b-900c-3dd076b379f0\">\n",
              "  <button class=\"colab-df-quickchart\" onclick=\"quickchart('df-097f7753-8234-4f5b-900c-3dd076b379f0')\"\n",
              "            title=\"Suggest charts\"\n",
              "            style=\"display:none;\">\n",
              "\n",
              "<svg xmlns=\"http://www.w3.org/2000/svg\" height=\"24px\"viewBox=\"0 0 24 24\"\n",
              "     width=\"24px\">\n",
              "    <g>\n",
              "        <path d=\"M19 3H5c-1.1 0-2 .9-2 2v14c0 1.1.9 2 2 2h14c1.1 0 2-.9 2-2V5c0-1.1-.9-2-2-2zM9 17H7v-7h2v7zm4 0h-2V7h2v10zm4 0h-2v-4h2v4z\"/>\n",
              "    </g>\n",
              "</svg>\n",
              "  </button>\n",
              "\n",
              "<style>\n",
              "  .colab-df-quickchart {\n",
              "      --bg-color: #E8F0FE;\n",
              "      --fill-color: #1967D2;\n",
              "      --hover-bg-color: #E2EBFA;\n",
              "      --hover-fill-color: #174EA6;\n",
              "      --disabled-fill-color: #AAA;\n",
              "      --disabled-bg-color: #DDD;\n",
              "  }\n",
              "\n",
              "  [theme=dark] .colab-df-quickchart {\n",
              "      --bg-color: #3B4455;\n",
              "      --fill-color: #D2E3FC;\n",
              "      --hover-bg-color: #434B5C;\n",
              "      --hover-fill-color: #FFFFFF;\n",
              "      --disabled-bg-color: #3B4455;\n",
              "      --disabled-fill-color: #666;\n",
              "  }\n",
              "\n",
              "  .colab-df-quickchart {\n",
              "    background-color: var(--bg-color);\n",
              "    border: none;\n",
              "    border-radius: 50%;\n",
              "    cursor: pointer;\n",
              "    display: none;\n",
              "    fill: var(--fill-color);\n",
              "    height: 32px;\n",
              "    padding: 0;\n",
              "    width: 32px;\n",
              "  }\n",
              "\n",
              "  .colab-df-quickchart:hover {\n",
              "    background-color: var(--hover-bg-color);\n",
              "    box-shadow: 0 1px 2px rgba(60, 64, 67, 0.3), 0 1px 3px 1px rgba(60, 64, 67, 0.15);\n",
              "    fill: var(--button-hover-fill-color);\n",
              "  }\n",
              "\n",
              "  .colab-df-quickchart-complete:disabled,\n",
              "  .colab-df-quickchart-complete:disabled:hover {\n",
              "    background-color: var(--disabled-bg-color);\n",
              "    fill: var(--disabled-fill-color);\n",
              "    box-shadow: none;\n",
              "  }\n",
              "\n",
              "  .colab-df-spinner {\n",
              "    border: 2px solid var(--fill-color);\n",
              "    border-color: transparent;\n",
              "    border-bottom-color: var(--fill-color);\n",
              "    animation:\n",
              "      spin 1s steps(1) infinite;\n",
              "  }\n",
              "\n",
              "  @keyframes spin {\n",
              "    0% {\n",
              "      border-color: transparent;\n",
              "      border-bottom-color: var(--fill-color);\n",
              "      border-left-color: var(--fill-color);\n",
              "    }\n",
              "    20% {\n",
              "      border-color: transparent;\n",
              "      border-left-color: var(--fill-color);\n",
              "      border-top-color: var(--fill-color);\n",
              "    }\n",
              "    30% {\n",
              "      border-color: transparent;\n",
              "      border-left-color: var(--fill-color);\n",
              "      border-top-color: var(--fill-color);\n",
              "      border-right-color: var(--fill-color);\n",
              "    }\n",
              "    40% {\n",
              "      border-color: transparent;\n",
              "      border-right-color: var(--fill-color);\n",
              "      border-top-color: var(--fill-color);\n",
              "    }\n",
              "    60% {\n",
              "      border-color: transparent;\n",
              "      border-right-color: var(--fill-color);\n",
              "    }\n",
              "    80% {\n",
              "      border-color: transparent;\n",
              "      border-right-color: var(--fill-color);\n",
              "      border-bottom-color: var(--fill-color);\n",
              "    }\n",
              "    90% {\n",
              "      border-color: transparent;\n",
              "      border-bottom-color: var(--fill-color);\n",
              "    }\n",
              "  }\n",
              "</style>\n",
              "\n",
              "  <script>\n",
              "    async function quickchart(key) {\n",
              "      const quickchartButtonEl =\n",
              "        document.querySelector('#' + key + ' button');\n",
              "      quickchartButtonEl.disabled = true;  // To prevent multiple clicks.\n",
              "      quickchartButtonEl.classList.add('colab-df-spinner');\n",
              "      try {\n",
              "        const charts = await google.colab.kernel.invokeFunction(\n",
              "            'suggestCharts', [key], {});\n",
              "      } catch (error) {\n",
              "        console.error('Error during call to suggestCharts:', error);\n",
              "      }\n",
              "      quickchartButtonEl.classList.remove('colab-df-spinner');\n",
              "      quickchartButtonEl.classList.add('colab-df-quickchart-complete');\n",
              "    }\n",
              "    (() => {\n",
              "      let quickchartButtonEl =\n",
              "        document.querySelector('#df-097f7753-8234-4f5b-900c-3dd076b379f0 button');\n",
              "      quickchartButtonEl.style.display =\n",
              "        google.colab.kernel.accessAllowed ? 'block' : 'none';\n",
              "    })();\n",
              "  </script>\n",
              "</div>\n",
              "\n",
              "    </div>\n",
              "  </div>\n"
            ],
            "application/vnd.google.colaboratory.intrinsic+json": {
              "type": "dataframe",
              "variable_name": "df_display",
              "summary": "{\n  \"name\": \"df_display\",\n  \"rows\": 100,\n  \"fields\": [\n    {\n      \"column\": \"Transaction_ID\",\n      \"properties\": {\n        \"dtype\": \"string\",\n        \"num_unique_values\": 100,\n        \"samples\": [\n          \"ABC0084\",\n          \"ABC0054\",\n          \"ABC0071\"\n        ],\n        \"semantic_type\": \"\",\n        \"description\": \"\"\n      }\n    },\n    {\n      \"column\": \"Date\",\n      \"properties\": {\n        \"dtype\": \"object\",\n        \"num_unique_values\": 54,\n        \"samples\": [\n          \"2024-02-22\",\n          \"2024-02-23\",\n          \"2024-02-09\"\n        ],\n        \"semantic_type\": \"\",\n        \"description\": \"\"\n      }\n    },\n    {\n      \"column\": \"Product\",\n      \"properties\": {\n        \"dtype\": \"category\",\n        \"num_unique_values\": 10,\n        \"samples\": [\n          \"Headphone\",\n          \"Smartphone Y\",\n          \"TV 50 Inch\"\n        ],\n        \"semantic_type\": \"\",\n        \"description\": \"\"\n      }\n    },\n    {\n      \"column\": \"Category\",\n      \"properties\": {\n        \"dtype\": \"category\",\n        \"num_unique_values\": 2,\n        \"samples\": [\n          \"Aksesoris\",\n          \"Elektronik\"\n        ],\n        \"semantic_type\": \"\",\n        \"description\": \"\"\n      }\n    },\n    {\n      \"column\": \"Price\",\n      \"properties\": {\n        \"dtype\": \"category\",\n        \"num_unique_values\": 10,\n        \"samples\": [\n          \"1.500.000\",\n          \"7.000.000\"\n        ],\n        \"semantic_type\": \"\",\n        \"description\": \"\"\n      }\n    },\n    {\n      \"column\": \"Quantity\",\n      \"properties\": {\n        \"dtype\": \"number\",\n        \"std\": 1,\n        \"min\": 1,\n        \"max\": 5,\n        \"num_unique_values\": 5,\n        \"samples\": [\n          2,\n          3\n        ],\n        \"semantic_type\": \"\",\n        \"description\": \"\"\n      }\n    },\n    {\n      \"column\": \"Total_Sales\",\n      \"properties\": {\n        \"dtype\": \"category\",\n        \"num_unique_values\": 32,\n        \"samples\": [\n          \"5.000.000\",\n          \"21.000.000\"\n        ],\n        \"semantic_type\": \"\",\n        \"description\": \"\"\n      }\n    },\n    {\n      \"column\": \"Customer\",\n      \"properties\": {\n        \"dtype\": \"category\",\n        \"num_unique_values\": 10,\n        \"samples\": [\n          \"Andi\",\n          \"Budi\"\n        ],\n        \"semantic_type\": \"\",\n        \"description\": \"\"\n      }\n    }\n  ]\n}"
            }
          },
          "metadata": {},
          "execution_count": 140
        }
      ]
    },
    {
      "cell_type": "markdown",
      "source": [
        "MEAN (RATA - RATA)\n",
        "DIGUNAKAN UNTUK MENGETAHUI RATA - RATA PERFORMA PENDAPATAN\n",
        "\n",
        "PADA KASUS INI ADALAH MENGHITUNG RATA RATA PENDAPATAN PADA KOLOM TOTAL SALES"
      ],
      "metadata": {
        "id": "eVSufVZopHcI"
      }
    },
    {
      "cell_type": "code",
      "source": [
        "# emnghitung rata - rata pada suatu kolom secara keseluruhan\n",
        "mean_Total_Sales = df['Total_Sales'].mean()\n",
        "print (f'hasil rata - rata price secara keseluruhan Total_Sales : {mean_Total_Sales:,.0f}')"
      ],
      "metadata": {
        "colab": {
          "base_uri": "https://localhost:8080/"
        },
        "id": "Trphy4azQbRF",
        "outputId": "08c49a5a-0cd3-498b-d35e-726ebc47341d"
      },
      "execution_count": 141,
      "outputs": [
        {
          "output_type": "stream",
          "name": "stdout",
          "text": [
            "hasil rata - rata price secara keseluruhan Total_Sales : 19,305,000\n"
          ]
        }
      ]
    },
    {
      "cell_type": "code",
      "source": [
        "# menghitung rata rata per kategori\n",
        "mean_Total_Sales_per_category = df.groupby('Category')['Total_Sales'].mean().astype(int)\n",
        "\n",
        "for category, Total_Sales in mean_Total_Sales_per_category.items():\n",
        "    print(f\"{category}: {Total_Sales:,}\".replace(\",\", \".\"))"
      ],
      "metadata": {
        "colab": {
          "base_uri": "https://localhost:8080/"
        },
        "id": "_pwbXDJJQ9Ig",
        "outputId": "18ed3752-6849-4052-b0a9-9f0183ab477f"
      },
      "execution_count": 142,
      "outputs": [
        {
          "output_type": "stream",
          "name": "stdout",
          "text": [
            "Aksesoris: 3.750.000\n",
            "Elektronik: 27.318.181\n"
          ]
        }
      ]
    },
    {
      "cell_type": "code",
      "source": [
        "mean_Total_Sales_per_category = df.groupby(['Category', 'Product'])['Total_Sales'].mean()\n",
        "\n",
        "print(\"Hasil rata-rata Total_Sales per Kategori & Produk:\")\n",
        "for (category, product), Total_Sales in mean_Total_Sales_per_category.items():\n",
        "    print(f\"{category} - {product}: {Total_Sales:,.0f}\".replace(\",\", \".\"))\n"
      ],
      "metadata": {
        "colab": {
          "base_uri": "https://localhost:8080/"
        },
        "id": "HVQuE8K-nsV2",
        "outputId": "1805787c-fef0-4454-c261-091406673720"
      },
      "execution_count": 143,
      "outputs": [
        {
          "output_type": "stream",
          "name": "stdout",
          "text": [
            "Hasil rata-rata Total_Sales per Kategori & Produk:\n",
            "Aksesoris - Headphone: 5.437.500\n",
            "Aksesoris - Keyboard Mechanical: 2.000.000\n",
            "Aksesoris - Mouse Gaming: 1.100.000\n",
            "Aksesoris - Smartwatch: 7.857.143\n",
            "Elektronik - Kamera Z: 28.000.000\n",
            "Elektronik - Laptop A: 36.000.000\n",
            "Elektronik - Laptop B: 41.538.462\n",
            "Elektronik - Smartphone X: 16.000.000\n",
            "Elektronik - Smartphone Y: 21.437.500\n",
            "Elektronik - TV 50 Inch: 16.363.636\n"
          ]
        }
      ]
    },
    {
      "cell_type": "markdown",
      "source": [
        "MEDIAN (NILAI TENGAH) SETELAH DATA DIURUTKAN\n",
        "\n",
        "DIGUNAKAN UNTUK MENGETAHUI TITIK TENGAH DATA"
      ],
      "metadata": {
        "id": "jSDAoHR0sOeE"
      }
    },
    {
      "cell_type": "code",
      "source": [
        "# median\n",
        "median_Total_Sales = df['Total_Sales'].median()\n",
        "print (f'hasil median secara keseluruhan Total_Sales : {median_Total_Sales:,.0f}')"
      ],
      "metadata": {
        "colab": {
          "base_uri": "https://localhost:8080/"
        },
        "id": "mwlsFcmhr6aa",
        "outputId": "54eacfc8-b077-444a-89f5-eea9631efd88"
      },
      "execution_count": 144,
      "outputs": [
        {
          "output_type": "stream",
          "name": "stdout",
          "text": [
            "hasil median secara keseluruhan Total_Sales : 14,000,000\n"
          ]
        }
      ]
    },
    {
      "cell_type": "code",
      "source": [
        "# menghitung median per kategori\n",
        "median_Total_Sales_per_category = df.groupby('Category')['Total_Sales'].median().astype(int)\n",
        "\n",
        "for category, Total_Sales in median_Total_Sales_per_category.items():\n",
        "    print(f\"{category}: {Total_Sales:,}\".replace(\",\", \".\"))"
      ],
      "metadata": {
        "colab": {
          "base_uri": "https://localhost:8080/"
        },
        "id": "ysAfhTT4umGZ",
        "outputId": "c5648a8d-d707-4478-f8aa-c3961cdc98d2"
      },
      "execution_count": 145,
      "outputs": [
        {
          "output_type": "stream",
          "name": "stdout",
          "text": [
            "Aksesoris: 2.450.000\n",
            "Elektronik: 21.000.000\n"
          ]
        }
      ]
    },
    {
      "cell_type": "code",
      "source": [
        "median_Total_Sales_per_category = df.groupby(['Category', 'Product'])['Total_Sales'].median()\n",
        "\n",
        "print(\"Hasil median Total_Sales per Kategori & Produk:\")\n",
        "for (category, product), Total_Sales in median_Total_Sales_per_category.items():\n",
        "    print(f\"{category} - {product}: {Total_Sales:,.0f}\".replace(\",\", \".\"))"
      ],
      "metadata": {
        "colab": {
          "base_uri": "https://localhost:8080/"
        },
        "id": "6Sd5dVA_s-gQ",
        "outputId": "5b09ac41-073a-4a87-b9f8-4c3c559668a0"
      },
      "execution_count": 146,
      "outputs": [
        {
          "output_type": "stream",
          "name": "stdout",
          "text": [
            "Hasil median Total_Sales per Kategori & Produk:\n",
            "Aksesoris - Headphone: 4.500.000\n",
            "Aksesoris - Keyboard Mechanical: 2.400.000\n",
            "Aksesoris - Mouse Gaming: 1.000.000\n",
            "Aksesoris - Smartwatch: 10.000.000\n",
            "Elektronik - Kamera Z: 32.000.000\n",
            "Elektronik - Laptop A: 36.000.000\n",
            "Elektronik - Laptop B: 30.000.000\n",
            "Elektronik - Smartphone X: 20.000.000\n",
            "Elektronik - Smartphone Y: 21.000.000\n",
            "Elektronik - TV 50 Inch: 10.000.000\n"
          ]
        }
      ]
    },
    {
      "cell_type": "markdown",
      "source": [
        "MODUS ADALAH NILAI YANG SERING MUNCUL\n",
        "\n",
        "DIGUNAKAN UNTUK MENGETAHUI TREN ATAU POLA UMUM DALAM DATA"
      ],
      "metadata": {
        "id": "Qn6gIVfVzDM9"
      }
    },
    {
      "cell_type": "code",
      "source": [
        "# Menghitung modus Total_Sales per Kategori & Produk\n",
        "modus_Total_Sales_per_category = df.groupby(['Category', 'Product'])['Total_Sales'].apply(lambda x: x.mode())\n",
        "\n",
        "print (\"Hasil modus Total_Sales per Kategori & Produk:\")\n",
        "# Menampilkan hasil dengan reset index agar mudah diiterasi\n",
        "modus_Total_Sales_per_category = modus_Total_Sales_per_category.reset_index(level=2, drop=True)\n",
        "\n",
        "for category, Total_Sales in median_Total_Sales_per_category.items():\n",
        "    print(f\"{category}: {Total_Sales:,}\".replace(\",\", \".\"))"
      ],
      "metadata": {
        "colab": {
          "base_uri": "https://localhost:8080/"
        },
        "id": "cgAAxdTZzhyB",
        "outputId": "8eb30ade-bfb3-490c-bb89-d1be266cdbea"
      },
      "execution_count": 147,
      "outputs": [
        {
          "output_type": "stream",
          "name": "stdout",
          "text": [
            "Hasil modus Total_Sales per Kategori & Produk:\n",
            "('Aksesoris'. 'Headphone'): 4.500.000.0\n",
            "('Aksesoris'. 'Keyboard Mechanical'): 2.400.000.0\n",
            "('Aksesoris'. 'Mouse Gaming'): 1.000.000.0\n",
            "('Aksesoris'. 'Smartwatch'): 10.000.000.0\n",
            "('Elektronik'. 'Kamera Z'): 32.000.000.0\n",
            "('Elektronik'. 'Laptop A'): 36.000.000.0\n",
            "('Elektronik'. 'Laptop B'): 30.000.000.0\n",
            "('Elektronik'. 'Smartphone X'): 20.000.000.0\n",
            "('Elektronik'. 'Smartphone Y'): 21.000.000.0\n",
            "('Elektronik'. 'TV 50 Inch'): 10.000.000.0\n"
          ]
        }
      ]
    },
    {
      "cell_type": "code",
      "source": [
        "# Menghitung modus Total_Sales per Kategori\n",
        "modus_Total_Sales_per_category = df.groupby('Category')['Total_Sales'].apply(lambda x: x.mode().iloc[0])\n",
        "\n",
        "# Cetak hasil\n",
        "print(\"Hasil modus Total_Sales per Kategori:\")\n",
        "for category, Total_Sales in modus_Total_Sales_per_category.items():\n",
        "    print(f\"{category}: {Total_Sales:,}\".replace(\",\", \".\"))"
      ],
      "metadata": {
        "colab": {
          "base_uri": "https://localhost:8080/"
        },
        "id": "K8SGWckJxcCy",
        "outputId": "c9000fbb-5735-461b-8b23-e3d9026bc9e3"
      },
      "execution_count": 148,
      "outputs": [
        {
          "output_type": "stream",
          "name": "stdout",
          "text": [
            "Hasil modus Total_Sales per Kategori:\n",
            "Aksesoris: 1.000.000\n",
            "Elektronik: 10.000.000\n"
          ]
        }
      ]
    },
    {
      "cell_type": "markdown",
      "source": [
        "STANDAR DEVIASI (STD)\n",
        "\n",
        "UKURAN SEBERAPA JAUH DATA TERSEBAR DARI NILAI RATA - RATA\n",
        "\n",
        "SEMAKIN KECIL STD MAKA DATA LEBIH TERKONSENTRASI DI SEKITAR RATA - RATA (STABIL)\n",
        "\n",
        "JIKA STD BESAR MAKA DATA LEBIH MENYEBAR (TIDAK STABIL)\n",
        "\n"
      ],
      "metadata": {
        "id": "6E6xMVhz4S10"
      }
    },
    {
      "cell_type": "code",
      "source": [
        "std_per_category = df.groupby('Category')['Total_Sales'].std()\n",
        "\n",
        "print(\"Standar Deviasi Total Sales per Kategori:\")\n",
        "for category, std in std_per_category.items():\n",
        "    print(f\"{category}: {std:,.2f}\".replace(\",\", \".\"))"
      ],
      "metadata": {
        "colab": {
          "base_uri": "https://localhost:8080/"
        },
        "id": "uvrOoxcl48kK",
        "outputId": "84d47715-daab-4c61-e803-898e7dddf6f3"
      },
      "execution_count": 151,
      "outputs": [
        {
          "output_type": "stream",
          "name": "stdout",
          "text": [
            "Standar Deviasi Total Sales per Kategori:\n",
            "Aksesoris: 3.428.423.97\n",
            "Elektronik: 17.423.378.72\n"
          ]
        }
      ]
    },
    {
      "cell_type": "markdown",
      "source": [
        "MELIHAT KOEFISIEN VARIASI DARI HASIL STANDAR DEVIASI YANG DIDAPAT JIKA DALAM BENTUK PERSENTASE\n",
        "\n",
        "RUMUS : (STD / MEAN) * 100"
      ],
      "metadata": {
        "id": "PboSYkgW8WXr"
      }
    },
    {
      "cell_type": "code",
      "source": [
        "# Menghitung mean per kategori\n",
        "mean_per_category = df.groupby('Category')['Total_Sales'].mean()\n",
        "\n",
        "# Menghitung Koefisien Variasi (CV) dalam persen\n",
        "cv_per_category = (std_per_category / mean_per_category) * 100\n",
        "\n",
        "# Menampilkan hasil CV dalam persen\n",
        "print(\"Koefisien Variasi (CV) Total Sales per Kategori:\")\n",
        "for category, cv in cv_per_category.items():\n",
        "    print(f\"{category}: {cv:.2f}%\")"
      ],
      "metadata": {
        "colab": {
          "base_uri": "https://localhost:8080/"
        },
        "id": "JFnJ4WKs6wbF",
        "outputId": "06646b7c-df9d-439f-e061-7cc70b810218"
      },
      "execution_count": 154,
      "outputs": [
        {
          "output_type": "stream",
          "name": "stdout",
          "text": [
            "Koefisien Variasi (CV) Total Sales per Kategori:\n",
            "Aksesoris: 91.42%\n",
            "Elektronik: 63.78%\n"
          ]
        }
      ]
    },
    {
      "cell_type": "markdown",
      "source": [
        "BOXPLOT (VISUALISASI STATISTIK)\n",
        "\n",
        "DIGUNAKAN UNTUK MEMAHAMI DISTRIBUSI DATA DAN MENDETEKSI OUTLIER"
      ],
      "metadata": {
        "id": "18g_D3kv94b6"
      }
    },
    {
      "cell_type": "code",
      "source": [
        "import seaborn as sns\n",
        "import matplotlib.pyplot as plt\n",
        "\n",
        "# Buat boxplot berdasarkan kategori\n",
        "plt.figure(figsize=(10, 5))\n",
        "sns.boxplot(x='Category', y='Total_Sales', data=df)\n",
        "\n",
        "# Tambahkan judul\n",
        "plt.title(\"Boxplot Total Sales per Kategori\")\n",
        "\n",
        "# Tampilkan plot\n",
        "plt.show()"
      ],
      "metadata": {
        "colab": {
          "base_uri": "https://localhost:8080/",
          "height": 375
        },
        "id": "Es-4DNbFu-ao",
        "outputId": "17b1fcdc-de9f-4e00-e4e8-a3cc8ccd2ab4"
      },
      "execution_count": 156,
      "outputs": [
        {
          "output_type": "display_data",
          "data": {
            "text/plain": [
              "<Figure size 1000x500 with 1 Axes>"
            ],
            "image/png": "[encoded data removed]"
          },
          "metadata": {}
        }
      ]
    }
  ]
}